{
 "cells": [
  {
   "cell_type": "code",
   "execution_count": null,
   "id": "27f04a66",
   "metadata": {},
   "outputs": [],
   "source": [
    "#Pycaret:\n",
    "#from pycaret.regression import *\n",
    "\n",
    "#Pipeline de pycaret:\n",
    "\n",
    "#1. Setup() : Definir el dataset y parámetros\n",
    "\n",
    "    #exp = setup(data = df, target = 'precio', session_id = 12,normalize=True)\n",
    "#2. Compare_models(): Compara múltiples modelos y los rankea\n",
    "    #best_model = compare_models()\n",
    "\n",
    "#3. Create_model() : Crea un modelo específico\n",
    "    #lr = create_model('lr')\n",
    "\n",
    "#4. Tune_model(): Ajuste automático de hiperparámetros\n",
    "    #tuned_lr = tune_model(lr)\n",
    "\n",
    "#5. Plot_model(): Genera gráficos para evaluar el modelo\n",
    "    #plot_model(tuned_lr, plot = 'residuals')\n",
    "    #plot_model(tuned_lr, plot = 'feature')\n",
    "\n",
    "#6. Evaluate_model(): UI de evaluación del modelo\n",
    "    #evaluate_model(tuned_lr)\n",
    "\n",
    "#7. Predict_model(): Predicciones sobre nuevos datos en el DF\n",
    "    #predicciones = predict_model(tuned_lr, data = df_nuevo)\n",
    "\n",
    "#8. save_model()/load_model() : Guardar y cargar modelos\n",
    "    #save_model(tuned_lr, 'modelo_final')\n",
    "    #modelo_cargado = load_model('modelo_final')"
   ]
  }
 ],
 "metadata": {
  "kernelspec": {
   "display_name": "base",
   "language": "python",
   "name": "python3"
  },
  "language_info": {
   "name": "python",
   "version": "3.11.11"
  }
 },
 "nbformat": 4,
 "nbformat_minor": 5
}
